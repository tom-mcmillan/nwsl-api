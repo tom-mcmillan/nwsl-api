{
 "cells": [
  {
   "cell_type": "markdown",
   "metadata": {},
   "source": [
    "# NWSL API Test Notebook\n",
    "\n",
    "This notebook demonstrates how to use the NWSL API endpoints with example requests and responses."
   ]
  },
  {
   "cell_type": "code",
   "execution_count": null,
   "metadata": {},
   "outputs": [],
   "source": [
    "import requests\n",
    "import json\n",
    "from pprint import pprint\n",
    "\n",
    "# API Configuration\n",
    "BASE_URL = \"https://api.nwsldata.com\"\n",
    "API_KEY = \"nwsl-demo-key-2024\"  # Replace with your actual API key\n",
    "\n",
    "# Headers for all requests\n",
    "headers = {\n",
    "    \"X-API-Key\": API_KEY,\n",
    "    \"Content-Type\": \"application/json\"\n",
    "}\n",
    "\n",
    "print(f\"API Base URL: {BASE_URL}\")\n",
    "print(f\"Using API Key: {API_KEY[:20]}...\")"
   ]
  },
  {
   "cell_type": "markdown",
   "metadata": {},
   "source": [
    "## 1. Test API Health"
   ]
  },
  {
   "cell_type": "code",
   "execution_count": null,
   "metadata": {},
   "outputs": [],
   "source": [
    "# Check API health (no auth required)\n",
    "response = requests.get(f\"{BASE_URL}/health\")\n",
    "print(f\"Status Code: {response.status_code}\")\n",
    "print(\"Response:\")\n",
    "pprint(response.json())"
   ]
  },
  {
   "cell_type": "markdown",
   "metadata": {},
   "source": [
    "## 2. Teams Endpoints"
   ]
  },
  {
   "cell_type": "code",
   "execution_count": null,
   "metadata": {},
   "outputs": [],
   "source": [
    "# Get all teams\n",
    "response = requests.get(\n",
    "    f\"{BASE_URL}/api/v1/teams/\",\n",
    "    headers=headers,\n",
    "    params={\"page\": 1, \"page_size\": 5}\n",
    ")\n",
    "\n",
    "if response.status_code == 200:\n",
    "    data = response.json()\n",
    "    print(f\"Total teams: {data['total']}\")\n",
    "    print(f\"\\nFirst 5 teams:\")\n",
    "    for team in data['teams']:\n",
    "        print(f\"  - {team['team_name']} (ID: {team['id']})\")\n",
    "else:\n",
    "    print(f\"Error: {response.status_code} - {response.text}\")"
   ]
  },
  {
   "cell_type": "code",
   "execution_count": null,
   "metadata": {},
   "outputs": [],
   "source": [
    "# Get specific team details\n",
    "team_id = \"team_portland_thorns\"  # Example team ID\n",
    "response = requests.get(\n",
    "    f\"{BASE_URL}/api/v1/teams/{team_id}\",\n",
    "    headers=headers\n",
    ")\n",
    "\n",
    "if response.status_code == 200:\n",
    "    team = response.json()\n",
    "    print(f\"Team: {team['team_name']}\")\n",
    "    print(f\"City: {team['city']}\")\n",
    "    print(f\"Founded: {team['founded_year']}\")\n",
    "    print(f\"Stadium: {team['stadium']}\")\n",
    "    print(f\"Capacity: {team['stadium_capacity']:,}\")\n",
    "else:\n",
    "    print(f\"Error: {response.status_code} - {response.text}\")"
   ]
  },
  {
   "cell_type": "markdown",
   "metadata": {},
   "source": [
    "## 3. Players Endpoints"
   ]
  },
  {
   "cell_type": "code",
   "execution_count": null,
   "metadata": {},
   "outputs": [],
   "source": [
    "# Search for players by name\n",
    "response = requests.get(\n",
    "    f\"{BASE_URL}/api/v1/players/\",\n",
    "    headers=headers,\n",
    "    params={\n",
    "        \"search\": \"Smith\",\n",
    "        \"page_size\": 10\n",
    "    }\n",
    ")\n",
    "\n",
    "if response.status_code == 200:\n",
    "    data = response.json()\n",
    "    print(f\"Found {data['total']} players matching 'Smith'\")\n",
    "    print(\"\\nPlayers:\")\n",
    "    for player in data['players']:\n",
    "        print(f\"  - {player['player_name']} ({player['position']}) - {player['nationality']}\")\n",
    "else:\n",
    "    print(f\"Error: {response.status_code} - {response.text}\")"
   ]
  },
  {
   "cell_type": "code",
   "execution_count": null,
   "metadata": {},
   "outputs": [],
   "source": [
    "# Get players by position\n",
    "response = requests.get(\n",
    "    f\"{BASE_URL}/api/v1/players/\",\n",
    "    headers=headers,\n",
    "    params={\n",
    "        \"position\": \"Goalkeeper\",\n",
    "        \"page_size\": 5\n",
    "    }\n",
    ")\n",
    "\n",
    "if response.status_code == 200:\n",
    "    data = response.json()\n",
    "    print(f\"Total goalkeepers: {data['total']}\")\n",
    "    print(\"\\nTop 5 goalkeepers:\")\n",
    "    for player in data['players']:\n",
    "        print(f\"  - {player['player_name']} - Height: {player.get('height_cm', 'N/A')}cm\")\n",
    "else:\n",
    "    print(f\"Error: {response.status_code} - {response.text}\")"
   ]
  },
  {
   "cell_type": "markdown",
   "metadata": {},
   "source": [
    "## 4. Matches Endpoints"
   ]
  },
  {
   "cell_type": "code",
   "execution_count": null,
   "metadata": {},
   "outputs": [],
   "source": [
    "# Get matches for 2024 season\n",
    "response = requests.get(\n",
    "    f\"{BASE_URL}/api/v1/matches/\",\n",
    "    headers=headers,\n",
    "    params={\n",
    "        \"season\": 2024,\n",
    "        \"page_size\": 5\n",
    "    }\n",
    ")\n",
    "\n",
    "if response.status_code == 200:\n",
    "    data = response.json()\n",
    "    print(f\"Total 2024 matches: {data['total']}\")\n",
    "    print(\"\\nRecent matches:\")\n",
    "    for match in data['matches']:\n",
    "        print(f\"  {match['match_date']}: {match['home_team_name']} {match.get('home_score', '?')}-{match.get('away_score', '?')} {match['away_team_name']}\")\n",
    "else:\n",
    "    print(f\"Error: {response.status_code} - {response.text}\")"
   ]
  },
  {
   "cell_type": "code",
   "execution_count": null,
   "metadata": {},
   "outputs": [],
   "source": [
    "# Get matches by date range\n",
    "response = requests.get(\n",
    "    f\"{BASE_URL}/api/v1/matches/\",\n",
    "    headers=headers,\n",
    "    params={\n",
    "        \"start_date\": \"2024-05-01\",\n",
    "        \"end_date\": \"2024-05-31\",\n",
    "        \"page_size\": 10\n",
    "    }\n",
    ")\n",
    "\n",
    "if response.status_code == 200:\n",
    "    data = response.json()\n",
    "    print(f\"Matches in May 2024: {data['total']}\")\n",
    "    for match in data['matches']:\n",
    "        print(f\"  {match['match_date']}: {match['home_team_name']} vs {match['away_team_name']} at {match.get('venue_name', 'TBD')}\")\n",
    "else:\n",
    "    print(f\"Error: {response.status_code} - {response.text}\")"
   ]
  },
  {
   "cell_type": "markdown",
   "metadata": {},
   "source": [
    "## 5. Statistics Endpoints"
   ]
  },
  {
   "cell_type": "code",
   "execution_count": null,
   "metadata": {},
   "outputs": [],
   "source": [
    "# Get top goal scorers\n",
    "response = requests.get(\n",
    "    f\"{BASE_URL}/api/v1/stats/leaderboard/goals\",\n",
    "    headers=headers,\n",
    "    params={\n",
    "        \"season\": 2024,\n",
    "        \"limit\": 10\n",
    "    }\n",
    ")\n",
    "\n",
    "if response.status_code == 200:\n",
    "    data = response.json()\n",
    "    print(\"Top 10 Goal Scorers (2024):\")\n",
    "    for i, player in enumerate(data['leaders'], 1):\n",
    "        print(f\"  {i}. {player['player_name']} ({player['team_name']}) - {player['goals']} goals\")\n",
    "else:\n",
    "    print(f\"Error: {response.status_code} - {response.text}\")"
   ]
  },
  {
   "cell_type": "code",
   "execution_count": null,
   "metadata": {},
   "outputs": [],
   "source": [
    "# Get assist leaders\n",
    "response = requests.get(\n",
    "    f\"{BASE_URL}/api/v1/stats/leaderboard/assists\",\n",
    "    headers=headers,\n",
    "    params={\n",
    "        \"season\": 2024,\n",
    "        \"limit\": 10\n",
    "    }\n",
    ")\n",
    "\n",
    "if response.status_code == 200:\n",
    "    data = response.json()\n",
    "    print(\"Top 10 Assist Leaders (2024):\")\n",
    "    for i, player in enumerate(data['leaders'], 1):\n",
    "        print(f\"  {i}. {player['player_name']} ({player['team_name']}) - {player['assists']} assists\")\n",
    "else:\n",
    "    print(f\"Error: {response.status_code} - {response.text}\")"
   ]
  },
  {
   "cell_type": "markdown",
   "metadata": {},
   "source": [
    "## 6. Events Endpoints"
   ]
  },
  {
   "cell_type": "code",
   "execution_count": null,
   "metadata": {},
   "outputs": [],
   "source": [
    "# Get recent goals\n",
    "response = requests.get(\n",
    "    f\"{BASE_URL}/api/v1/events/goals\",\n",
    "    headers=headers,\n",
    "    params={\n",
    "        \"season\": 2024\n",
    "    }\n",
    ")\n",
    "\n",
    "if response.status_code == 200:\n",
    "    data = response.json()\n",
    "    print(f\"Total goals in 2024: {data['total']}\")\n",
    "    print(\"\\nRecent goals:\")\n",
    "    for goal in data['goals'][:5]:\n",
    "        print(f\"  {goal['minute']}' - {goal['player_name']} ({goal['team_name']})\")\n",
    "        if goal.get('assist_player'):\n",
    "            print(f\"    Assist: {goal['assist_player']}\")\n",
    "else:\n",
    "    print(f\"Error: {response.status_code} - {response.text}\")"
   ]
  },
  {
   "cell_type": "code",
   "execution_count": null,
   "metadata": {},
   "outputs": [],
   "source": [
    "# Get cards (yellow and red)\n",
    "response = requests.get(\n",
    "    f\"{BASE_URL}/api/v1/events/cards\",\n",
    "    headers=headers,\n",
    "    params={\n",
    "        \"card_type\": \"red\",\n",
    "        \"season\": 2024\n",
    "    }\n",
    ")\n",
    "\n",
    "if response.status_code == 200:\n",
    "    data = response.json()\n",
    "    print(f\"Red cards in 2024: {data['total']}\")\n",
    "    print(\"\\nRed cards:\")\n",
    "    for card in data['cards'][:5]:\n",
    "        print(f\"  {card['minute']}' - {card['player_name']} ({card['team_name']}) - {card.get('reason', 'No reason given')}\")\n",
    "else:\n",
    "    print(f\"Error: {response.status_code} - {response.text}\")"
   ]
  },
  {
   "cell_type": "markdown",
   "metadata": {},
   "source": [
    "## 7. Venues Endpoints"
   ]
  },
  {
   "cell_type": "code",
   "execution_count": null,
   "metadata": {},
   "outputs": [],
   "source": [
    "# Get all venues\n",
    "response = requests.get(\n",
    "    f\"{BASE_URL}/api/v1/venues/\",\n",
    "    headers=headers\n",
    ")\n",
    "\n",
    "if response.status_code == 200:\n",
    "    venues = response.json()\n",
    "    print(f\"Total NWSL venues: {len(venues)}\")\n",
    "    print(\"\\nVenues:\")\n",
    "    for venue in venues[:5]:\n",
    "        print(f\"  - {venue['venue_name']} ({venue['city']}, {venue['state']}) - Capacity: {venue['capacity']:,}\")\n",
    "else:\n",
    "    print(f\"Error: {response.status_code} - {response.text}\")"
   ]
  },
  {
   "cell_type": "markdown",
   "metadata": {},
   "source": [
    "## 8. Error Handling Examples"
   ]
  },
  {
   "cell_type": "code",
   "execution_count": null,
   "metadata": {},
   "outputs": [],
   "source": [
    "# Example: Invalid API Key\n",
    "bad_headers = {\"X-API-Key\": \"invalid-key-123\"}\n",
    "response = requests.get(f\"{BASE_URL}/api/v1/teams/\", headers=bad_headers)\n",
    "print(f\"Invalid API Key - Status: {response.status_code}\")\n",
    "print(f\"Error: {response.json()}\")"
   ]
  },
  {
   "cell_type": "code",
   "execution_count": null,
   "metadata": {},
   "outputs": [],
   "source": [
    "# Example: Resource not found\n",
    "response = requests.get(f\"{BASE_URL}/api/v1/teams/invalid_team_id\", headers=headers)\n",
    "print(f\"Team not found - Status: {response.status_code}\")\n",
    "print(f\"Error: {response.json()}\")"
   ]
  },
  {
   "cell_type": "code",
   "execution_count": null,
   "metadata": {},
   "outputs": [],
   "source": [
    "# Example: Invalid query parameters\n",
    "response = requests.get(\n",
    "    f\"{BASE_URL}/api/v1/players/\",\n",
    "    headers=headers,\n",
    "    params={\"page\": -1}  # Invalid page number\n",
    ")\n",
    "print(f\"Invalid parameters - Status: {response.status_code}\")\n",
    "print(f\"Error: {response.json()}\")"
   ]
  },
  {
   "cell_type": "markdown",
   "metadata": {},
   "source": [
    "## 9. Rate Limiting Information\n",
    "\n",
    "The NWSL API implements rate limiting to ensure fair usage:\n",
    "\n",
    "- **Demo Key**: 100 requests per hour\n",
    "- **Standard Key**: 1,000 requests per hour\n",
    "- **Premium Key**: 10,000 requests per hour\n",
    "\n",
    "Rate limit headers are included in all responses:\n",
    "- `X-RateLimit-Limit`: Your rate limit\n",
    "- `X-RateLimit-Remaining`: Requests remaining\n",
    "- `X-RateLimit-Reset`: Unix timestamp when limit resets"
   ]
  },
  {
   "cell_type": "code",
   "execution_count": null,
   "metadata": {},
   "outputs": [],
   "source": [
    "# Check rate limit headers\n",
    "response = requests.get(f\"{BASE_URL}/api/v1/teams/\", headers=headers)\n",
    "if response.status_code == 200:\n",
    "    print(\"Rate Limit Information:\")\n",
    "    print(f\"  Limit: {response.headers.get('X-RateLimit-Limit', 'Not specified')}\")\n",
    "    print(f\"  Remaining: {response.headers.get('X-RateLimit-Remaining', 'Not specified')}\")\n",
    "    print(f\"  Reset: {response.headers.get('X-RateLimit-Reset', 'Not specified')}\")"
   ]
  },
  {
   "cell_type": "markdown",
   "metadata": {},
   "source": [
    "## 10. API Key Generation\n",
    "\n",
    "To get your own API key (instead of using the demo key), visit:\n",
    "https://api.nwsldata.com/register\n",
    "\n",
    "Or programmatically register:"
   ]
  },
  {
   "cell_type": "code",
   "execution_count": null,
   "metadata": {},
   "outputs": [],
   "source": [
    "# Register for a new API key\n",
    "registration_data = {\n",
    "    \"email\": \"your-email@example.com\",\n",
    "    \"name\": \"Your Name\",\n",
    "    \"company\": \"Your Company\",\n",
    "    \"use_case\": \"Testing the NWSL API\"\n",
    "}\n",
    "\n",
    "# Uncomment to actually register\n",
    "# response = requests.post(f\"{BASE_URL}/register\", json=registration_data)\n",
    "# if response.status_code == 200:\n",
    "#     result = response.json()\n",
    "#     print(f\"Success! Your API key: {result['api_key']}\")\n",
    "#     print(f\"Key ID: {result['key_id']}\")\n",
    "#     print(\"Save this key securely - it won't be shown again!\")\n",
    "# else:\n",
    "#     print(f\"Error: {response.json()}\")"
   ]
  }
 ],
 "metadata": {
  "kernelspec": {
   "display_name": "Python 3",
   "language": "python",
   "name": "python3"
  },
  "language_info": {
   "codemirror_mode": {
    "name": "ipython",
    "version": 3
   },
   "file_extension": ".py",
   "mimetype": "text/x-python",
   "name": "python",
   "nbconvert_exporter": "python",
   "pygments_lexer": "ipython3",
   "version": "3.11.0"
  }
 },
 "nbformat": 4,
 "nbformat_minor": 4
}